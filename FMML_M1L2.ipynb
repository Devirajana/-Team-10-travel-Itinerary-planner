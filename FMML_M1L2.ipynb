{
  "cells": [
    {
      "cell_type": "markdown",
      "metadata": {
        "id": "view-in-github",
        "colab_type": "text"
      },
      "source": [
        "<a href=\"https://colab.research.google.com/github/Devirajana/-Team-10-travel-Itinerary-planner/blob/main/FMML_M1L2.ipynb\" target=\"_parent\"><img src=\"https://colab.research.google.com/assets/colab-badge.svg\" alt=\"Open In Colab\"/></a>"
      ]
    },
    {
      "cell_type": "markdown",
      "metadata": {
        "id": "3Eu9VZbF01eq"
      },
      "source": [
        "# Machine Learning terms and metrics\n",
        "\n",
        "FMML Module 1, Lab 2\n",
        "\n",
        "In this lab, we will show a part of the ML pipeline by using the California Housing dataset. There are 20640 samples, each with 8 attributes like income of the block, age of the houses per district etc. The task is to predict the cost of the houses per district. We will use the scikit-learn library to load the data and perform some basic data preprocessing and model training. We will also show how to evaluate the model using some common metrics, split the data into training and testing sets, and use cross-validation to get a better estimate of the model's performance."
      ]
    },
    {
      "cell_type": "code",
      "execution_count": 32,
      "metadata": {
        "id": "8qBvyEem0vLi"
      },
      "outputs": [],
      "source": [
        "import numpy as np\n",
        "from sklearn import datasets\n",
        "import matplotlib.pyplot as plt\n",
        "\n",
        "rng = np.random.default_rng(seed=42)"
      ]
    },
    {
      "cell_type": "code",
      "execution_count": 33,
      "metadata": {
        "colab": {
          "base_uri": "https://localhost:8080/"
        },
        "id": "8LpqjN991GGJ",
        "outputId": "b7437166-7048-4578-ad6d-c96006c2cacf"
      },
      "outputs": [
        {
          "output_type": "stream",
          "name": "stdout",
          "text": [
            ".. _california_housing_dataset:\n",
            "\n",
            "California Housing dataset\n",
            "--------------------------\n",
            "\n",
            "**Data Set Characteristics:**\n",
            "\n",
            ":Number of Instances: 20640\n",
            "\n",
            ":Number of Attributes: 8 numeric, predictive attributes and the target\n",
            "\n",
            ":Attribute Information:\n",
            "    - MedInc        median income in block group\n",
            "    - HouseAge      median house age in block group\n",
            "    - AveRooms      average number of rooms per household\n",
            "    - AveBedrms     average number of bedrooms per household\n",
            "    - Population    block group population\n",
            "    - AveOccup      average number of household members\n",
            "    - Latitude      block group latitude\n",
            "    - Longitude     block group longitude\n",
            "\n",
            ":Missing Attribute Values: None\n",
            "\n",
            "This dataset was obtained from the StatLib repository.\n",
            "https://www.dcc.fc.up.pt/~ltorgo/Regression/cal_housing.html\n",
            "\n",
            "The target variable is the median house value for California districts,\n",
            "expressed in hundreds of thousands of dollars ($100,000).\n",
            "\n",
            "This dataset was derived from the 1990 U.S. census, using one row per census\n",
            "block group. A block group is the smallest geographical unit for which the U.S.\n",
            "Census Bureau publishes sample data (a block group typically has a population\n",
            "of 600 to 3,000 people).\n",
            "\n",
            "A household is a group of people residing within a home. Since the average\n",
            "number of rooms and bedrooms in this dataset are provided per household, these\n",
            "columns may take surprisingly large values for block groups with few households\n",
            "and many empty houses, such as vacation resorts.\n",
            "\n",
            "It can be downloaded/loaded using the\n",
            ":func:`sklearn.datasets.fetch_california_housing` function.\n",
            "\n",
            ".. rubric:: References\n",
            "\n",
            "- Pace, R. Kelley and Ronald Barry, Sparse Spatial Autoregressions,\n",
            "  Statistics and Probability Letters, 33 (1997) 291-297\n",
            "\n"
          ]
        }
      ],
      "source": [
        "dataset = datasets.fetch_california_housing()\n",
        "# Dataset description\n",
        "print(dataset.DESCR)"
      ]
    },
    {
      "cell_type": "markdown",
      "metadata": {
        "id": "PCe1VNftevgE"
      },
      "source": [
        "Given below are the list of target values. These correspond to the house value derived considering all the 8 input features and are continuous values. We should use regression models to predict these values but we will start with a simple classification model for the sake of simplicity. We need to just round off the values to the nearest integer and use a classification model to predict the house value."
      ]
    },
    {
      "cell_type": "code",
      "execution_count": 34,
      "metadata": {
        "colab": {
          "base_uri": "https://localhost:8080/"
        },
        "id": "F8K0ggBOevgE",
        "outputId": "7bdf8bdf-fc0b-4067-a6c2-869a1904b9d5"
      },
      "outputs": [
        {
          "output_type": "stream",
          "name": "stdout",
          "text": [
            "Orignal target values: [4.526 3.585 3.521 ... 0.923 0.847 0.894]\n",
            "Target values after conversion: [4 3 3 ... 0 0 0]\n",
            "Input variables shape: (20640, 8)\n",
            "Output variables shape: (20640,)\n"
          ]
        }
      ],
      "source": [
        "print(\"Orignal target values:\", dataset.target)\n",
        "\n",
        "dataset.target = dataset.target.astype(int)\n",
        "\n",
        "print(\"Target values after conversion:\", dataset.target)\n",
        "print(\"Input variables shape:\", dataset.data.shape)\n",
        "print(\"Output variables shape:\", dataset.target.shape)"
      ]
    },
    {
      "cell_type": "markdown",
      "metadata": {
        "id": "iNx4174W5xRg"
      },
      "source": [
        "The simplest model to use for classification is the K-Nearest Neighbors model. We will use this model to predict the house value with a K value of 1. We will also use the accuracy metric to evaluate the model."
      ]
    },
    {
      "cell_type": "code",
      "execution_count": 35,
      "metadata": {
        "id": "07zpydQj1hIQ"
      },
      "outputs": [],
      "source": [
        "def NN1(traindata, trainlabel, query):\n",
        "    \"\"\"\n",
        "    This function takes in the training data, training labels and a query point\n",
        "    and returns the predicted label for the query point using the nearest neighbour algorithm\n",
        "\n",
        "    traindata: numpy array of shape (n,d) where n is the number of samples and d is the number of features\n",
        "    trainlabel: numpy array of shape (n,) where n is the number of samples\n",
        "    query: numpy array of shape (d,) where d is the number of features\n",
        "\n",
        "    returns: the predicted label for the query point which is the label of the training data which is closest to the query point\n",
        "    \"\"\"\n",
        "    diff = (\n",
        "        traindata - query\n",
        "    )  # find the difference between features. Numpy automatically takes care of the size here\n",
        "    sq = diff * diff  # square the differences\n",
        "    dist = sq.sum(1)  # add up the squares\n",
        "    label = trainlabel[np.argmin(dist)]\n",
        "    return label\n",
        "\n",
        "\n",
        "def NN(traindata, trainlabel, testdata):\n",
        "    \"\"\"\n",
        "    This function takes in the training data, training labels and test data\n",
        "    and returns the predicted labels for the test data using the nearest neighbour algorithm\n",
        "\n",
        "    traindata: numpy array of shape (n,d) where n is the number of samples and d is the number of features\n",
        "    trainlabel: numpy array of shape (n,) where n is the number of samples\n",
        "    testdata: numpy array of shape (m,d) where m is the number of test samples and d is the number of features\n",
        "\n",
        "    returns: the predicted labels for the test data which is the label of the training data which is closest to each test point\n",
        "    \"\"\"\n",
        "    predlabel = np.array([NN1(traindata, trainlabel, i) for i in testdata])\n",
        "    return predlabel"
      ]
    },
    {
      "cell_type": "markdown",
      "metadata": {
        "id": "03JktkfIGaje"
      },
      "source": [
        "We will also define a 'random classifier', which randomly allots labels to each sample"
      ]
    },
    {
      "cell_type": "code",
      "execution_count": 36,
      "metadata": {
        "id": "fogWAtjyGhAH"
      },
      "outputs": [],
      "source": [
        "def RandomClassifier(traindata, trainlabel, testdata):\n",
        "    \"\"\"\n",
        "    This function takes in the training data, training labels and test data\n",
        "    and returns the predicted labels for the test data using the random classifier algorithm\n",
        "\n",
        "    In reality, we don't need these arguments but we are passing them to keep the function signature consistent with other classifiers\n",
        "\n",
        "    traindata: numpy array of shape (n,d) where n is the number of samples and d is the number of features\n",
        "    trainlabel: numpy array of shape (n,) where n is the number of samples\n",
        "    testdata: numpy array of shape (m,d) where m is the number of test samples and d is the number of features\n",
        "\n",
        "    returns: the predicted labels for the test data which is a random label from the training data\n",
        "    \"\"\"\n",
        "\n",
        "    classes = np.unique(trainlabel)\n",
        "    rints = rng.integers(low=0, high=len(classes), size=len(testdata))\n",
        "    predlabel = classes[rints]\n",
        "    return predlabel"
      ]
    },
    {
      "cell_type": "markdown",
      "metadata": {
        "id": "1Hjf1KHs7fU5"
      },
      "source": [
        "We need a metric to evaluate the performance of the model. Let us define a metric 'Accuracy' to see how good our learning algorithm is. Accuracy is the ratio of the number of correctly classified samples to the total number of samples. The higher the accuracy, the better the algorithm. We will use the accuracy metric to evaluate and compate the performance of the K-Nearest Neighbors model and the random classifier."
      ]
    },
    {
      "cell_type": "code",
      "execution_count": 37,
      "metadata": {
        "id": "ouuCqWU07bz-"
      },
      "outputs": [],
      "source": [
        "def Accuracy(gtlabel, predlabel):\n",
        "    \"\"\"\n",
        "    This function takes in the ground-truth labels and predicted labels\n",
        "    and returns the accuracy of the classifier\n",
        "\n",
        "    gtlabel: numpy array of shape (n,) where n is the number of samples\n",
        "    predlabel: numpy array of shape (n,) where n is the number of samples\n",
        "\n",
        "    returns: the accuracy of the classifier which is the number of correct predictions divided by the total number of predictions\n",
        "    \"\"\"\n",
        "    assert len(gtlabel) == len(\n",
        "        predlabel\n",
        "    ), \"Length of the ground-truth labels and predicted labels should be the same\"\n",
        "    correct = (\n",
        "        gtlabel == predlabel\n",
        "    ).sum()  # count the number of times the groundtruth label is equal to the predicted label.\n",
        "    return correct / len(gtlabel)"
      ]
    },
    {
      "cell_type": "markdown",
      "metadata": {
        "id": "4vJFwBFa9Klw"
      },
      "source": [
        "Let us make a function to split the dataset with the desired probability. We will use this function to split the dataset into training and testing sets. We will use the training set to train the model and the testing set to evaluate the model."
      ]
    },
    {
      "cell_type": "code",
      "execution_count": 38,
      "metadata": {
        "id": "Ko0VzpSM2Tdi"
      },
      "outputs": [],
      "source": [
        "def split(data, label, percent):\n",
        "    # generate a random number for each sample\n",
        "    rnd = rng.random(len(label))\n",
        "    split1 = rnd < percent\n",
        "    split2 = rnd >= percent\n",
        "\n",
        "    split1data = data[split1, :]\n",
        "    split1label = label[split1]\n",
        "    split2data = data[split2, :]\n",
        "    split2label = label[split2]\n",
        "    return split1data, split1label, split2data, split2label"
      ]
    },
    {
      "cell_type": "markdown",
      "metadata": {
        "id": "AcK3LEAJ_LGC"
      },
      "source": [
        "We will reserve 20% of our dataset as the test set. We will not change this portion throughout our experiments"
      ]
    },
    {
      "cell_type": "code",
      "execution_count": 39,
      "metadata": {
        "colab": {
          "base_uri": "https://localhost:8080/"
        },
        "id": "bBZkHBLJ1iU-",
        "outputId": "9c406b06-b2d3-4a2d-d4d1-4e7b38e8a828"
      },
      "outputs": [
        {
          "output_type": "stream",
          "name": "stdout",
          "text": [
            "Number of test samples: 4144\n",
            "Number of train samples: 16496\n",
            "Percent of test data: 20.07751937984496 %\n"
          ]
        }
      ],
      "source": [
        "testdata, testlabel, alltraindata, alltrainlabel = split(\n",
        "    dataset.data, dataset.target, 20 / 100\n",
        ")\n",
        "print(\"Number of test samples:\", len(testlabel))\n",
        "print(\"Number of train samples:\", len(alltrainlabel))\n",
        "print(\"Percent of test data:\", len(testlabel) * 100 / len(dataset.target), \"%\")"
      ]
    },
    {
      "cell_type": "markdown",
      "metadata": {
        "id": "a6Ss0Z6IAGNV"
      },
      "source": [
        "## Experiments with splits\n",
        "\n",
        "Let us reserve some of our train data as a validation set"
      ]
    },
    {
      "cell_type": "code",
      "execution_count": 40,
      "metadata": {
        "id": "WFew2iry_7W7"
      },
      "outputs": [],
      "source": [
        "traindata, trainlabel, valdata, vallabel = split(\n",
        "    alltraindata, alltrainlabel, 75 / 100)"
      ]
    },
    {
      "cell_type": "markdown",
      "metadata": {
        "id": "60hiu4clFN1i"
      },
      "source": [
        "What is the accuracy of our classifiers on the train dataset?"
      ]
    },
    {
      "cell_type": "code",
      "execution_count": 41,
      "metadata": {
        "colab": {
          "base_uri": "https://localhost:8080/"
        },
        "id": "DBlZDTHUFTZx",
        "outputId": "e3b38b85-0f23-4a81-8959-044d9e495990"
      },
      "outputs": [
        {
          "output_type": "stream",
          "name": "stdout",
          "text": [
            "Training accuracy using nearest neighbour algorithm: 100.0 %\n",
            "Training accuracy using random classifier:  16.4375808538163 %\n"
          ]
        }
      ],
      "source": [
        "trainpred = NN(traindata, trainlabel, traindata)\n",
        "trainAccuracy = Accuracy(trainlabel, trainpred)\n",
        "print(\"Training accuracy using nearest neighbour algorithm:\", trainAccuracy*100, \"%\")\n",
        "\n",
        "trainpred = RandomClassifier(traindata, trainlabel, traindata)\n",
        "trainAccuracy = Accuracy(trainlabel, trainpred)\n",
        "print(\"Training accuracy using random classifier: \", trainAccuracy*100, \"%\")"
      ]
    },
    {
      "cell_type": "markdown",
      "metadata": {
        "id": "7h08-9gJDtSy"
      },
      "source": [
        "For nearest neighbour, the train accuracy is always 1. The accuracy of the random classifier is close to 1/(number of classes) which is 0.1666 in our case. This is because the random classifier randomly assigns a label to each sample and the probability of assigning the correct label is 1/(number of classes). Let us predict the labels for our validation set and get the accuracy. This accuracy is a good estimate of the accuracy of our model on unseen data."
      ]
    },
    {
      "cell_type": "code",
      "execution_count": 42,
      "metadata": {
        "colab": {
          "base_uri": "https://localhost:8080/"
        },
        "id": "4h7bXoW_2H3v",
        "outputId": "972546b6-d9d2-48e5-ac01-d3c7dda4daa0"
      },
      "outputs": [
        {
          "output_type": "stream",
          "name": "stdout",
          "text": [
            "Validation accuracy using nearest neighbour algorithm: 34.10852713178294 %\n",
            "Validation accuracy using random classifier: 16.884689922480618 %\n"
          ]
        }
      ],
      "source": [
        "valpred = NN(traindata, trainlabel, valdata)\n",
        "valAccuracy = Accuracy(vallabel, valpred)\n",
        "print(\"Validation accuracy using nearest neighbour algorithm:\", valAccuracy*100, \"%\")\n",
        "\n",
        "\n",
        "valpred = RandomClassifier(traindata, trainlabel, valdata)\n",
        "valAccuracy = Accuracy(vallabel, valpred)\n",
        "print(\"Validation accuracy using random classifier:\", valAccuracy*100, \"%\")"
      ]
    },
    {
      "cell_type": "markdown",
      "metadata": {
        "id": "py9bLguFEjfg"
      },
      "source": [
        "Validation accuracy of nearest neighbour is considerably less than its train accuracy while the validation accuracy of random classifier is the same. However, the validation accuracy of nearest neighbour is twice that of the random classifier. Now let us try another random split and check the validation accuracy. We will see that the validation accuracy changes with the split. This is because the validation set is small and the accuracy is highly dependent on the samples in the validation set. We can get a better estimate of the accuracy by using cross-validation."
      ]
    },
    {
      "cell_type": "code",
      "execution_count": 43,
      "metadata": {
        "colab": {
          "base_uri": "https://localhost:8080/"
        },
        "id": "ujm3cyYzEntE",
        "outputId": "05c8746c-9fab-4f14-82a8-305edf20c9ac"
      },
      "outputs": [
        {
          "output_type": "stream",
          "name": "stdout",
          "text": [
            "Validation accuracy using nearest neighbour algorithm: 34.048257372654156 %\n"
          ]
        }
      ],
      "source": [
        "traindata, trainlabel, valdata, vallabel = split(\n",
        "    alltraindata, alltrainlabel, 75 / 100)\n",
        "valpred = NN(traindata, trainlabel, valdata)\n",
        "valAccuracy = Accuracy(vallabel, valpred)\n",
        "print(\"Validation accuracy using nearest neighbour algorithm:\", valAccuracy*100, \"%\")"
      ]
    },
    {
      "cell_type": "markdown",
      "metadata": {
        "id": "oSOx7U83EKie"
      },
      "source": [
        "You can run the above cell multiple times to try with different random splits.\n",
        "We notice that the accuracy is different for each run, but close together.\n",
        "\n",
        "Now let us compare it with the accuracy we get on the test dataset."
      ]
    },
    {
      "cell_type": "code",
      "execution_count": 44,
      "metadata": {
        "colab": {
          "base_uri": "https://localhost:8080/"
        },
        "id": "PNEZ5ToYBEDW",
        "outputId": "d9b15b58-7bcd-4573-c39c-e6725ef328c0"
      },
      "outputs": [
        {
          "output_type": "stream",
          "name": "stdout",
          "text": [
            "Test accuracy: 34.91795366795367 %\n"
          ]
        }
      ],
      "source": [
        "testpred = NN(alltraindata, alltrainlabel, testdata)\n",
        "testAccuracy = Accuracy(testlabel, testpred)\n",
        "\n",
        "print(\"Test accuracy:\", testAccuracy*100, \"%\")"
      ]
    },
    {
      "cell_type": "markdown",
      "metadata": {
        "id": "w3dGD531K3gH"
      },
      "source": [
        "### Try it out for yourself and answer:\n",
        "1. How is the accuracy of the validation set affected if we increase the percentage of validation set? What happens when we reduce it?\n",
        "2. How does the size of the train and validation set affect how well we can predict the accuracy on the test set using the validation set?\n",
        "3. What do you think is a good percentage to reserve for the validation set so that thest two factors are balanced?\n",
        "\n",
        "Answer for both nearest neighbour and random classifier. You can note down the values for your experiments and plot a graph using  <a href=https://matplotlib.org/stable/gallery/lines_bars_and_markers/step_demo.html#sphx-glr-gallery-lines-bars-and-markers-step-demo-py>plt.plot<href>. Check also for extreme values for splits, like 99.9% or 0.1%"
      ]
    },
    {
      "cell_type": "markdown",
      "metadata": {
        "id": "M9zvdYY6evgI"
      },
      "source": [
        "> Exercise: Try to implement a 3 nearest neighbour classifier and compare the accuracy of the 1 nearest neighbour classifier and the 3 nearest neighbour classifier on the test dataset. You can use the KNeighborsClassifier class from the scikit-learn library to implement the K-Nearest Neighbors model. You can set the number of neighbors using the n_neighbors parameter. You can also use the accuracy_score function from the scikit-learn library to calculate the accuracy of the model."
      ]
    },
    {
      "cell_type": "markdown",
      "metadata": {
        "id": "PnYvkAZLQY7h"
      },
      "source": [
        "## Multiple Splits\n",
        "\n",
        "One way to get more accurate estimates for the test accuracy is by using <b>cross-validation</b>. Here, we will try a simple version, where we do multiple train/val splits and take the average of validation accuracies as the test accuracy estimation. Here is a function for doing this. Note that this function will take a long time to execute. You can reduce the number of splits to make it faster."
      ]
    },
    {
      "cell_type": "code",
      "execution_count": 45,
      "metadata": {
        "id": "E4nGCUQXBTzo"
      },
      "outputs": [],
      "source": [
        "def AverageAccuracy(alldata, alllabel, splitpercent, iterations, classifier=NN):\n",
        "    \"\"\"\n",
        "    This function takes in the data, labels, split percentage, number of iterations and classifier function\n",
        "    and returns the average accuracy of the classifier\n",
        "\n",
        "    alldata: numpy array of shape (n,d) where n is the number of samples and d is the number of features\n",
        "    alllabel: numpy array of shape (n,) where n is the number of samples\n",
        "    splitpercent: float which is the percentage of data to be used for training\n",
        "    iterations: int which is the number of iterations to run the classifier\n",
        "    classifier: function which is the classifier function to be used\n",
        "\n",
        "    returns: the average accuracy of the classifier\n",
        "    \"\"\"\n",
        "    accuracy = 0\n",
        "    for ii in range(iterations):\n",
        "        traindata, trainlabel, valdata, vallabel = split(\n",
        "            alldata, alllabel, splitpercent\n",
        "        )\n",
        "        valpred = classifier(traindata, trainlabel, valdata)\n",
        "        accuracy += Accuracy(vallabel, valpred)\n",
        "    return accuracy / iterations  # average of all accuracies"
      ]
    },
    {
      "cell_type": "code",
      "execution_count": 46,
      "metadata": {
        "colab": {
          "base_uri": "https://localhost:8080/"
        },
        "id": "H3qtNar7Bbik",
        "outputId": "73173c86-0363-47b5-8b76-b2d7469fdae9"
      },
      "outputs": [
        {
          "output_type": "stream",
          "name": "stdout",
          "text": [
            "Average validation accuracy: 33.58463539517022 %\n",
            "Test accuracy: 34.91795366795367 %\n"
          ]
        }
      ],
      "source": [
        "avg_acc = AverageAccuracy(alltraindata, alltrainlabel, 75 / 100, 10, classifier=NN)\n",
        "print(\"Average validation accuracy:\", avg_acc*100, \"%\")\n",
        "testpred = NN(alltraindata, alltrainlabel, testdata)\n",
        "\n",
        "print(\"Test accuracy:\", Accuracy(testlabel, testpred)*100, \"%\")"
      ]
    },
    {
      "cell_type": "markdown",
      "metadata": {
        "id": "33GIn4x5VH-d"
      },
      "source": [
        "This is a very simple way of doing cross-validation. There are many well-known algorithms for cross-validation, like k-fold cross-validation, leave-one-out etc. This will be covered in detail in a later module. For more information about cross-validation, check <a href=https://en.wikipedia.org/wiki/Cross-validation_(statistics)>Cross-validatioin (Wikipedia)</a>\n",
        "\n",
        "### Questions\n",
        "1. Does averaging the validation accuracy across multiple splits give more consistent results?\n",
        "\n",
        "Yes, **averaging the validation accuracy across multiple splits** generally **gives more consistent results**, and this is a core benefit of techniques like **cross-validation**. Here's why:\n",
        "\n",
        "### 1. **Reduces Variance in Results**\n",
        "   - **Single split**: If you evaluate your model using a single training/validation split, the performance can be influenced by the specific data points in that split. If the split happens to be unrepresentative (e.g., it’s not a good representation of the overall population or is highly skewed), the accuracy can be misleading.\n",
        "   - **Multiple splits**: When you perform **cross-validation** (such as **k-fold cross-validation**), you train and evaluate the model multiple times on different splits of the data. By averaging the validation accuracy across multiple splits, you reduce the influence of any single unrepresentative split. This provides a more reliable estimate of the model's generalization ability across various subsets of the data.\n",
        "\n",
        "### 2. **Improves Model Evaluation**\n",
        "   - Averaging across multiple splits helps smooth out fluctuations in model performance due to randomness in how data is split. For example:\n",
        "     - If you randomly partition the data and evaluate on just one split, you may encounter overfitting (if the validation set is too similar to the training set) or underfitting (if the validation set is very different).\n",
        "     - By using multiple splits, you ensure that the model is evaluated in a more robust and varied context, which leads to a more comprehensive assessment of its performance.\n",
        "\n",
        "### 3. **More Reliable Estimate of Generalization Performance**\n",
        "   - Cross-validation gives a better sense of how the model will perform on **unseen data**. It provides a more accurate estimate of how well the model will generalize when deployed to a real-world dataset, especially if you are working with limited data. By averaging across multiple validation sets, you're effectively testing the model on various subsets of the data, making the result more generalizable.\n",
        "\n",
        "### 4. **Helps with Hyperparameter Tuning**\n",
        "   - In scenarios where you are fine-tuning hyperparameters (e.g., in grid search or random search), using multiple splits can help determine the best configuration with more confidence. Relying on a single split might lead to over-optimizing the hyperparameters for a specific subset of the data, which may not generalize well to other data splits.\n",
        "\n",
        "### 5. **Cross-Validation Methods**\n",
        "   - **k-fold cross-validation**: The most common approach, where the data is divided into **k** parts (or folds). The model is trained on **k-1** folds and validated on the remaining fold. This process is repeated **k** times, each time with a different fold as the validation set. The average validation accuracy across all **k** runs gives a more stable estimate of the model's performance.\n",
        "   - **Stratified k-fold cross-validation**: For classification problems, particularly when classes are imbalanced, stratified k-fold ensures that each fold has a similar distribution of classes. This ensures that the model is tested on representative subsets.\n",
        "\n",
        "### 6. **Averaging in Practice**\n",
        "   - If you were to run a **5-fold cross-validation** and get validation accuracies of:\n",
        "     - Fold 1: 82%\n",
        "     - Fold 2: 78%\n",
        "     - Fold 3: 85%\n",
        "     - Fold 4: 81%\n",
        "     - Fold 5: 79%\n",
        "     \n",
        "     The average validation accuracy would be:\n",
        "     \\[\n",
        "     \\text{Average} = \\frac{82 + 78 + 85 + 81 + 79}{5} = 81%\n",
        "     \\]\n",
        "     This average result is much more reliable than a single accuracy score from just one fold or one validation split, as it incorporates the model’s performance across multiple data subsets.\n",
        "\n",
        "### 7. **Dealing with Model Instability**\n",
        "   - Some models can be unstable and may vary significantly in performance due to minor changes in the data (for example, neural networks, which can be sensitive to random initialization). Averaging across multiple splits helps mitigate the risk of reporting an overly optimistic or pessimistic accuracy score based on one particular split.\n",
        "\n",
        "### Conclusion\n",
        "Averaging the validation accuracy across multiple splits, especially via **cross-validation**, leads to **more consistent** and **reliable results**. It reduces the risk of bias due to random variability in data splitting, smooths out fluctuations in performance, and provides a better estimate of how the model will perform in real-world, unseen scenarios. Therefore, cross-validation is widely regarded as a standard practice for evaluating model performance.\n",
        "\n",
        "\n",
        "2. Does it give more accurate estimate of test accuracy?\n",
        "\n",
        "**Averaging validation accuracy across multiple splits** (like in **cross-validation**) **does not directly give you an estimate of test accuracy**, but it does **provide a more reliable estimate** of how well your model will perform on unseen data, which can be thought of as an approximation of test accuracy. Here's a breakdown of the relationship:\n",
        "\n",
        "### 1. **Difference Between Validation and Test Accuracy**\n",
        "   - **Validation Accuracy**: This is the accuracy obtained from evaluating the model on a validation set, which is a subset of the training data. The model is trained on the training set and validated on the validation set. In cross-validation, this process is repeated multiple times with different splits of the data.\n",
        "   - **Test Accuracy**: This is the accuracy obtained by evaluating the model on a completely separate **test set**, which is not used during training or validation. The test set is used only at the very end, after model training and hyperparameter tuning, to evaluate the final model's generalization performance.\n",
        "\n",
        "   **Key Difference**: The test accuracy measures how well the model generalizes to truly unseen data, while validation accuracy helps in choosing the best model (or hyperparameters) but can still be influenced by how the data is split during the training and validation phases.\n",
        "\n",
        "### 2. **Does Averaging Validation Accuracy Estimate Test Accuracy Well?**\n",
        "   - **Averaging validation accuracy across multiple splits** (like in **k-fold cross-validation**) provides a **more consistent and robust estimate** of the model's ability to generalize, but it is still based on data that has been used for model selection and training (in the validation process).\n",
        "   - **Why it’s not a direct estimate of test accuracy**:\n",
        "     - The validation accuracy can be slightly optimistic because the model has been tuned on the training and validation sets, and it might be slightly overfitted to these specific splits.\n",
        "     - The true test accuracy comes from a final, independent test set that the model has never seen before. Validation accuracy does not account for any unseen test data.\n",
        "     \n",
        "   - **Still, it’s a good approximation**: The more you average across different splits of the data (in cross-validation), the better the estimate you get of how the model will generalize. It smooths out the variability from individual splits and gives a more reliable approximation of test accuracy.\n",
        "\n",
        "### 3. **Cross-Validation vs. Test Accuracy:**\n",
        "   - **Cross-validation gives an approximation** of how well your model will perform on unseen data because it tests the model on multiple validation sets (each split is used as a validation set at some point), mimicking the test process by ensuring the model doesn't see any data it is evaluated on.\n",
        "   - However, **test accuracy** is the gold standard for assessing how your final model will perform on truly unseen data. Cross-validation helps you tune the model and estimate generalization performance, but the **test set** is the final, unbiased evaluation of the model's ability to generalize.\n",
        "\n",
        "### 4. **Factors That Influence Accuracy Estimates:**\n",
        "   - **Overfitting on Validation Data**: When you perform cross-validation or split the data multiple times for validation, there’s a small risk that the model can overfit the validation sets. If you keep using validation data to tweak the model, the validation accuracy may be overly optimistic, and it won’t match the test accuracy exactly.\n",
        "   - **Data Leakage**: If there’s any leakage (i.e., some information from the test set accidentally influences the training process), both the validation and test accuracy estimates could become biased and not reflect true performance on new, unseen data.\n",
        "   - **Choice of Cross-Validation Method**: The type of cross-validation you use matters. **k-fold cross-validation** tends to give more reliable results, but if you use methods like **train-test splits** (especially with a single split), the validation accuracy might not be as stable.\n",
        "\n",
        "### 5. **Best Practices for Estimating Test Accuracy:**\n",
        "   - **Use Cross-Validation for Model Selection**: You can use cross-validation (averaging across splits) to evaluate and compare models or select hyperparameters. This gives a good approximation of how your model will perform on unseen data.\n",
        "   - **Final Evaluation on Test Set**: Once you’ve selected the final model and tuned it using cross-validation, you should evaluate it **on a separate test set** that the model has never seen before. This provides the true **test accuracy**, which is the best estimate of how the model will perform in real-world scenarios.\n",
        "   \n",
        "   **In summary**: Cross-validation (averaging across multiple validation splits) gives a **good approximation** of test accuracy but is not an exact estimate of how the model will perform on a final, independent test set. The most accurate estimate of test accuracy comes from evaluating the model on a **separate, untouched test set** after training and hyperparameter selection.\n",
        "\n",
        "\n",
        "\n",
        "3. What is the effect of the number of iterations on the estimate? Do we get a better estimate with higher iterations?\n",
        "\n",
        "Yes, **increasing the number of iterations** (or **cross-validation folds** or **epochs**, depending on the context) can **improve the estimate** of model performance, but the effect varies depending on the specific context. Let’s break down how the number of iterations impacts your estimate in different scenarios:\n",
        "\n",
        "### 1. **Effect of Increasing the Number of Cross-Validation Folds (Iterations)**\n",
        "In the context of **k-fold cross-validation**, increasing the number of folds (iterations) has several effects:\n",
        "\n",
        "- **More Data for Training**: In k-fold cross-validation, the data is split into **k** subsets (folds), and for each fold, the model is trained on **k-1** subsets and tested on the remaining fold. As you increase **k** (for example, from 5-fold to 10-fold), each training iteration will use a larger portion of the data (since you're testing on a smaller fold), which can lead to a **better-trained model**.\n",
        "  \n",
        "- **Improved Estimate of Generalization**: With more folds, each individual validation set gets to be used as a test set, providing a more **representative estimate** of how the model performs across different subsets of the data. By averaging the performance across more splits, the estimate becomes **less sensitive** to any single, potentially unrepresentative fold, and is generally more **robust**.\n",
        "\n",
        "- **Reduced Variance**: A larger number of folds (e.g., 10-fold vs. 5-fold) helps reduce the variance in your performance estimates. This means that you get a **more stable and reliable** estimate of how the model will generalize to unseen data. Essentially, with more folds, you're averaging over more different sets of data, which smooths out random fluctuations in performance.\n",
        "\n",
        "- **Diminishing Returns**: While increasing the number of folds generally improves the estimate, after a certain point, the **improvement becomes marginal**. For instance, moving from 5-fold to 10-fold cross-validation might show a slight improvement in consistency, but going from 100-fold to 200-fold might not substantially change the estimate. This is because with each additional fold, you're just using smaller and smaller portions of the data for testing, and the additional improvements become less noticeable.\n",
        "\n",
        "- **Computational Cost**: Increasing the number of iterations (folds) increases the **computational cost**. More folds mean more training and testing cycles, which can be very expensive, especially with large datasets and complex models.\n",
        "\n",
        "### 2. **Effect of Increasing the Number of Training Iterations (Epochs)**\n",
        "If we are talking about **training iterations (epochs)** in a neural network or other iterative models (e.g., gradient descent), increasing the number of iterations can also affect the estimate, but in a different way:\n",
        "\n",
        "- **Overfitting Risk**: As the number of training epochs increases, the model is exposed to the training data more times, which can allow it to better **fit the data**. However, this also increases the risk of **overfitting** to the training data, meaning the model may memorize the data rather than learning generalizable patterns. This can hurt the model’s ability to generalize to unseen data, especially if you don't have sufficient regularization or early stopping mechanisms in place.\n",
        "\n",
        "- **Improved Convergence**: For many machine learning algorithms, especially those that use gradient-based optimization (like neural networks), increasing the number of epochs allows the model to **converge** more completely toward an optimal solution. In this case, a higher number of iterations can result in better performance **within the training set**. However, the performance improvement typically plateaus after a certain number of epochs, and too many epochs may lead to diminishing returns or overfitting.\n",
        "\n",
        "- **Better Generalization (If Stopped Early)**: **Early stopping** is often used to avoid overfitting. The idea is to stop training after a certain number of epochs when the model starts to show signs of overfitting (e.g., when validation performance starts to degrade). In such cases, a higher number of epochs may help **find the optimal point** before overfitting becomes a problem, leading to **better generalization**.\n",
        "\n",
        "### 3. **Effect on Estimate Quality**\n",
        "Here’s how the number of iterations (cross-validation folds or training epochs) influences the **quality of your performance estimate**:\n",
        "\n",
        "- **More Iterations = Better Estimate (Generally)**:\n",
        "  - For **cross-validation**: More folds (or iterations) usually lead to a **more stable, less biased** estimate of model performance.\n",
        "  - For **training epochs**: More iterations can help the model **converge to a better solution**, but you need to balance this with the risk of overfitting. It's not just about the number of epochs; it's about the **training-validation performance relationship**.\n",
        "\n",
        "- **Diminishing Returns**: After a certain point, you may see **diminishing returns** with respect to the improvement in your estimate. For example, going from 5-fold to 10-fold cross-validation usually gives a better estimate, but increasing to 20-fold doesn’t offer a significantly better result unless you have a very large dataset.\n",
        "\n",
        "- **Computational Efficiency**: More iterations take more computational resources, so it's important to find a balance between accuracy and computational efficiency. You want to improve the stability of your estimate without making the process unnecessarily long or expensive.\n",
        "\n",
        "### 4. **Trade-off Between Quality and Cost**\n",
        "Increasing iterations can lead to a **better estimate**, but it also comes with a trade-off:\n",
        "\n",
        "- **Cross-validation**: More folds mean more time spent training the model. For smaller datasets, increasing folds might provide significant improvement in the estimate, but for very large datasets, the benefits might be minimal compared to the computational cost.\n",
        "- **Training iterations**: More training epochs can help the model converge more thoroughly but may increase the risk of overfitting or just be inefficient if the model is already converging well. It is important to have proper early stopping mechanisms to prevent wasting resources.\n",
        "\n",
        "### Conclusion\n",
        "- **Yes**, in general, **higher iterations (cross-validation folds or training epochs) provide a more accurate and reliable estimate** of model performance, but only up to a point. The performance improves by averaging over more data splits or allowing more time for training, but after a certain point, the improvements become marginal and the **computational cost** increases.\n",
        "- **Cross-validation**: Increasing the number of folds typically gives a more **stable estimate** of model performance.\n",
        "- **Training epochs**: More iterations (epochs) can improve model training, but careful monitoring for overfitting and employing techniques like **early stopping** is necessary.\n",
        "\n",
        "Thus, higher iterations usually result in a better estimate, but **balance** is crucial in terms of computational cost and the risk of overfitting.\n",
        "\n",
        "\n",
        "4. Consider the results you got for the previous questions. Can we deal with a very small train dataset or validation dataset by increasing the iterations?\n",
        "\n",
        "Can we deal with a very small train dataset or validation dataset by increasing the iterations?\n",
        "\n",
        "Here's an answer to guide you:\n",
        "\n",
        "No, simply increasing the number of iterations is unlikely to solve the issue of a very small training or validation dataset. While more iterations might allow the model to better fit the limited data it has, it could lead to overfitting, where the model learns noise and specific details of the small dataset instead of generalizable patterns. This reduces the model's ability to perform well on unseen data.\n",
        "\n",
        "A more effective approach could involve:\n",
        "\n",
        "1. Data Augmentation: Generating new data from the small dataset by applying transformations (e.g., rotations, flips, or noise for images).\n",
        "\n",
        "\n",
        "2. Transfer Learning: Using a pre-trained model and fine-tuning it on the small dataset.\n",
        "\n",
        "\n",
        "3. Regularization: Adding techniques like dropout or weight decay to prevent overfitting.\n",
        "\n",
        "4. Synthetic Data: Creating artificial data using methods like GANs or statistical techniques.\n",
        "\n",
        "\n",
        "5. Cross-validation: Making the most out of the limited data by using it iteratively for training and validation.\n",
        "\n"
      ]
    },
    {
      "cell_type": "markdown",
      "metadata": {
        "id": "z-SBxy1qevgJ"
      },
      "source": [
        "> Exercise: How does the accuracy of the 3 nearest neighbour classifier change with the number of splits? How is it affected by the split size? Compare the results with the 1 nearest neighbour classifier."
      ]
    }
  ],
  "metadata": {
    "colab": {
      "provenance": [],
      "include_colab_link": true
    },
    "kernelspec": {
      "display_name": "Python 3",
      "name": "python3"
    },
    "language_info": {
      "codemirror_mode": {
        "name": "ipython",
        "version": 3
      },
      "file_extension": ".py",
      "mimetype": "text/x-python",
      "name": "python",
      "nbconvert_exporter": "python",
      "pygments_lexer": "ipython3",
      "version": "3.10.10"
    }
  },
  "nbformat": 4,
  "nbformat_minor": 0
}